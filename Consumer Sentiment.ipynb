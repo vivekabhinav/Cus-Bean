{
 "cells": [
  {
   "cell_type": "markdown",
   "metadata": {},
   "source": [
    "## 1 Business Problem\n",
    "\n",
    "Which product categories has lower reviews / maybe inferior products? (ie. electronics, iPad)\n",
    "Which product have higher reviews / maybe superior products?\n",
    "Business solutions:\n",
    "\n",
    "#### Which products should be kept, dropped from Amazon's product roster (which ones are junk?)\n",
    "#### Also: can we associate positive and negative words/sentiments for each product in Amazon's Catalog\n",
    "By using Sentiment analysis, can we predict scores for reviews based on certain words\n",
    "This dataset is based on Amazon branded/Amazon manufactured products only, and Customer satisfaction with Amazon products seem to be the main focus here.\n",
    "\n",
    "Potential suggestion for product reviews:\n",
    "Product X is highly rated on the market, it seems most people like its lightweight sleek design and fast speeds. Most products that were associated with negative reviews seemed to indicate that they were too heavy and they couldn't fit them in the bags. We suggest that next gen models for e-readers are lightweight and portable, based on this data we've looked at.\n",
    "\n",
    "Assumptions:\n",
    "\n",
    "We're assuming that sample size of 30K examples are sufficient to represent the entire population of sales/reviews\n",
    "We're assuming that the information we find in the text reviews of each product will be rich enough to train a sentiment analysis classifier with accuracy (hopefully) > 70%\n",
    "\n",
    "## 2 Quick Look at the Raw Data"
   ]
  },
  {
   "cell_type": "code",
   "execution_count": 2,
   "metadata": {},
   "outputs": [
    {
     "data": {
      "text/html": [
       "<div>\n",
       "<style scoped>\n",
       "    .dataframe tbody tr th:only-of-type {\n",
       "        vertical-align: middle;\n",
       "    }\n",
       "\n",
       "    .dataframe tbody tr th {\n",
       "        vertical-align: top;\n",
       "    }\n",
       "\n",
       "    .dataframe thead th {\n",
       "        text-align: right;\n",
       "    }\n",
       "</style>\n",
       "<table border=\"1\" class=\"dataframe\">\n",
       "  <thead>\n",
       "    <tr style=\"text-align: right;\">\n",
       "      <th></th>\n",
       "      <th>id</th>\n",
       "      <th>name</th>\n",
       "      <th>asins</th>\n",
       "      <th>brand</th>\n",
       "      <th>categories</th>\n",
       "      <th>keys</th>\n",
       "      <th>manufacturer</th>\n",
       "      <th>reviews.date</th>\n",
       "      <th>reviews.dateAdded</th>\n",
       "      <th>reviews.dateSeen</th>\n",
       "      <th>...</th>\n",
       "      <th>reviews.doRecommend</th>\n",
       "      <th>reviews.id</th>\n",
       "      <th>reviews.numHelpful</th>\n",
       "      <th>reviews.rating</th>\n",
       "      <th>reviews.sourceURLs</th>\n",
       "      <th>reviews.text</th>\n",
       "      <th>reviews.title</th>\n",
       "      <th>reviews.userCity</th>\n",
       "      <th>reviews.userProvince</th>\n",
       "      <th>reviews.username</th>\n",
       "    </tr>\n",
       "  </thead>\n",
       "  <tbody>\n",
       "    <tr>\n",
       "      <th>0</th>\n",
       "      <td>AVqkIhwDv8e3D1O-lebb</td>\n",
       "      <td>All-New Fire HD 8 Tablet, 8 HD Display, Wi-Fi,...</td>\n",
       "      <td>B01AHB9CN2</td>\n",
       "      <td>Amazon</td>\n",
       "      <td>Electronics,iPad &amp; Tablets,All Tablets,Fire Ta...</td>\n",
       "      <td>841667104676,amazon/53004484,amazon/b01ahb9cn2...</td>\n",
       "      <td>Amazon</td>\n",
       "      <td>2017-01-13T00:00:00.000Z</td>\n",
       "      <td>2017-07-03T23:33:15Z</td>\n",
       "      <td>2017-06-07T09:04:00.000Z,2017-04-30T00:45:00.000Z</td>\n",
       "      <td>...</td>\n",
       "      <td>True</td>\n",
       "      <td>NaN</td>\n",
       "      <td>0.0</td>\n",
       "      <td>5.0</td>\n",
       "      <td>http://reviews.bestbuy.com/3545/5620406/review...</td>\n",
       "      <td>This product so far has not disappointed. My c...</td>\n",
       "      <td>Kindle</td>\n",
       "      <td>NaN</td>\n",
       "      <td>NaN</td>\n",
       "      <td>Adapter</td>\n",
       "    </tr>\n",
       "    <tr>\n",
       "      <th>1</th>\n",
       "      <td>AVqkIhwDv8e3D1O-lebb</td>\n",
       "      <td>All-New Fire HD 8 Tablet, 8 HD Display, Wi-Fi,...</td>\n",
       "      <td>B01AHB9CN2</td>\n",
       "      <td>Amazon</td>\n",
       "      <td>Electronics,iPad &amp; Tablets,All Tablets,Fire Ta...</td>\n",
       "      <td>841667104676,amazon/53004484,amazon/b01ahb9cn2...</td>\n",
       "      <td>Amazon</td>\n",
       "      <td>2017-01-13T00:00:00.000Z</td>\n",
       "      <td>2017-07-03T23:33:15Z</td>\n",
       "      <td>2017-06-07T09:04:00.000Z,2017-04-30T00:45:00.000Z</td>\n",
       "      <td>...</td>\n",
       "      <td>True</td>\n",
       "      <td>NaN</td>\n",
       "      <td>0.0</td>\n",
       "      <td>5.0</td>\n",
       "      <td>http://reviews.bestbuy.com/3545/5620406/review...</td>\n",
       "      <td>great for beginner or experienced person. Boug...</td>\n",
       "      <td>very fast</td>\n",
       "      <td>NaN</td>\n",
       "      <td>NaN</td>\n",
       "      <td>truman</td>\n",
       "    </tr>\n",
       "  </tbody>\n",
       "</table>\n",
       "<p>2 rows × 21 columns</p>\n",
       "</div>"
      ],
      "text/plain": [
       "                     id                                               name  \\\n",
       "0  AVqkIhwDv8e3D1O-lebb  All-New Fire HD 8 Tablet, 8 HD Display, Wi-Fi,...   \n",
       "1  AVqkIhwDv8e3D1O-lebb  All-New Fire HD 8 Tablet, 8 HD Display, Wi-Fi,...   \n",
       "\n",
       "        asins   brand                                         categories  \\\n",
       "0  B01AHB9CN2  Amazon  Electronics,iPad & Tablets,All Tablets,Fire Ta...   \n",
       "1  B01AHB9CN2  Amazon  Electronics,iPad & Tablets,All Tablets,Fire Ta...   \n",
       "\n",
       "                                                keys manufacturer  \\\n",
       "0  841667104676,amazon/53004484,amazon/b01ahb9cn2...       Amazon   \n",
       "1  841667104676,amazon/53004484,amazon/b01ahb9cn2...       Amazon   \n",
       "\n",
       "               reviews.date     reviews.dateAdded  \\\n",
       "0  2017-01-13T00:00:00.000Z  2017-07-03T23:33:15Z   \n",
       "1  2017-01-13T00:00:00.000Z  2017-07-03T23:33:15Z   \n",
       "\n",
       "                                    reviews.dateSeen  ... reviews.doRecommend  \\\n",
       "0  2017-06-07T09:04:00.000Z,2017-04-30T00:45:00.000Z  ...                True   \n",
       "1  2017-06-07T09:04:00.000Z,2017-04-30T00:45:00.000Z  ...                True   \n",
       "\n",
       "  reviews.id  reviews.numHelpful  reviews.rating  \\\n",
       "0        NaN                 0.0             5.0   \n",
       "1        NaN                 0.0             5.0   \n",
       "\n",
       "                                  reviews.sourceURLs  \\\n",
       "0  http://reviews.bestbuy.com/3545/5620406/review...   \n",
       "1  http://reviews.bestbuy.com/3545/5620406/review...   \n",
       "\n",
       "                                        reviews.text reviews.title  \\\n",
       "0  This product so far has not disappointed. My c...        Kindle   \n",
       "1  great for beginner or experienced person. Boug...     very fast   \n",
       "\n",
       "  reviews.userCity  reviews.userProvince  reviews.username  \n",
       "0              NaN                   NaN           Adapter  \n",
       "1              NaN                   NaN            truman  \n",
       "\n",
       "[2 rows x 21 columns]"
      ]
     },
     "execution_count": 2,
     "metadata": {},
     "output_type": "execute_result"
    }
   ],
   "source": [
    "import pandas as pd\n",
    "import matplotlib.pyplot as plt\n",
    "import numpy as np\n",
    "import seaborn as sns\n",
    "import math\n",
    "import warnings\n",
    "warnings.filterwarnings('ignore') \n",
    "warnings.filterwarnings(\"ignore\", category=DeprecationWarning)\n",
    "warnings.filterwarnings(\"ignore\",category=UserWarning)\n",
    "sns.set_style(\"whitegrid\") \n",
    "%matplotlib inline \n",
    "np.random.seed(7) \n",
    "\n",
    "csv = \"1429_1.csv\"\n",
    "df = pd.read_csv(csv)\n",
    "df.head(2)"
   ]
  },
  {
   "cell_type": "markdown",
   "metadata": {},
   "source": [
    ".We can potentially refine sentiment analysis with the reviews.text column, with the actual rating of reviews.doRecommend column (boolean)\n",
    "\n",
    ".We can also label each review based on each sentiment\n",
    "  \n",
    "  .title can contain positive/negative information about review"
   ]
  },
  {
   "cell_type": "code",
   "execution_count": 3,
   "metadata": {},
   "outputs": [
    {
     "data": {
      "text/html": [
       "<div>\n",
       "<style scoped>\n",
       "    .dataframe tbody tr th:only-of-type {\n",
       "        vertical-align: middle;\n",
       "    }\n",
       "\n",
       "    .dataframe tbody tr th {\n",
       "        vertical-align: top;\n",
       "    }\n",
       "\n",
       "    .dataframe thead th {\n",
       "        text-align: right;\n",
       "    }\n",
       "</style>\n",
       "<table border=\"1\" class=\"dataframe\">\n",
       "  <thead>\n",
       "    <tr style=\"text-align: right;\">\n",
       "      <th></th>\n",
       "      <th>reviews.id</th>\n",
       "      <th>reviews.numHelpful</th>\n",
       "      <th>reviews.rating</th>\n",
       "      <th>reviews.userCity</th>\n",
       "      <th>reviews.userProvince</th>\n",
       "    </tr>\n",
       "  </thead>\n",
       "  <tbody>\n",
       "    <tr>\n",
       "      <th>count</th>\n",
       "      <td>1.0</td>\n",
       "      <td>34131.000000</td>\n",
       "      <td>34627.000000</td>\n",
       "      <td>0.0</td>\n",
       "      <td>0.0</td>\n",
       "    </tr>\n",
       "    <tr>\n",
       "      <th>mean</th>\n",
       "      <td>111372787.0</td>\n",
       "      <td>0.630248</td>\n",
       "      <td>4.584573</td>\n",
       "      <td>NaN</td>\n",
       "      <td>NaN</td>\n",
       "    </tr>\n",
       "    <tr>\n",
       "      <th>std</th>\n",
       "      <td>NaN</td>\n",
       "      <td>13.215775</td>\n",
       "      <td>0.735653</td>\n",
       "      <td>NaN</td>\n",
       "      <td>NaN</td>\n",
       "    </tr>\n",
       "    <tr>\n",
       "      <th>min</th>\n",
       "      <td>111372787.0</td>\n",
       "      <td>0.000000</td>\n",
       "      <td>1.000000</td>\n",
       "      <td>NaN</td>\n",
       "      <td>NaN</td>\n",
       "    </tr>\n",
       "    <tr>\n",
       "      <th>25%</th>\n",
       "      <td>111372787.0</td>\n",
       "      <td>0.000000</td>\n",
       "      <td>4.000000</td>\n",
       "      <td>NaN</td>\n",
       "      <td>NaN</td>\n",
       "    </tr>\n",
       "    <tr>\n",
       "      <th>50%</th>\n",
       "      <td>111372787.0</td>\n",
       "      <td>0.000000</td>\n",
       "      <td>5.000000</td>\n",
       "      <td>NaN</td>\n",
       "      <td>NaN</td>\n",
       "    </tr>\n",
       "    <tr>\n",
       "      <th>75%</th>\n",
       "      <td>111372787.0</td>\n",
       "      <td>0.000000</td>\n",
       "      <td>5.000000</td>\n",
       "      <td>NaN</td>\n",
       "      <td>NaN</td>\n",
       "    </tr>\n",
       "    <tr>\n",
       "      <th>max</th>\n",
       "      <td>111372787.0</td>\n",
       "      <td>814.000000</td>\n",
       "      <td>5.000000</td>\n",
       "      <td>NaN</td>\n",
       "      <td>NaN</td>\n",
       "    </tr>\n",
       "  </tbody>\n",
       "</table>\n",
       "</div>"
      ],
      "text/plain": [
       "        reviews.id  reviews.numHelpful  reviews.rating  reviews.userCity  \\\n",
       "count          1.0        34131.000000    34627.000000               0.0   \n",
       "mean   111372787.0            0.630248        4.584573               NaN   \n",
       "std            NaN           13.215775        0.735653               NaN   \n",
       "min    111372787.0            0.000000        1.000000               NaN   \n",
       "25%    111372787.0            0.000000        4.000000               NaN   \n",
       "50%    111372787.0            0.000000        5.000000               NaN   \n",
       "75%    111372787.0            0.000000        5.000000               NaN   \n",
       "max    111372787.0          814.000000        5.000000               NaN   \n",
       "\n",
       "       reviews.userProvince  \n",
       "count                   0.0  \n",
       "mean                    NaN  \n",
       "std                     NaN  \n",
       "min                     NaN  \n",
       "25%                     NaN  \n",
       "50%                     NaN  \n",
       "75%                     NaN  \n",
       "max                     NaN  "
      ]
     },
     "execution_count": 3,
     "metadata": {},
     "output_type": "execute_result"
    }
   ],
   "source": [
    "data = df.copy()\n",
    "data.describe()"
   ]
  },
  {
   "cell_type": "markdown",
   "metadata": {},
   "source": [
    "Based on the descriptive statistics above, we see the following:\n",
    "\n",
    "Average review score of 4.58, with low standard deviation\n",
    "\n",
    "Most review are positive from 2nd quartile onwards\n",
    "\n",
    "The average for number of reviews helpful (reviews.numHelpful) is 0.6 but high standard deviation\n",
    "\n",
    "The data are pretty spread out around the mean, and since can't have negative people finding \n",
    "something helpful, then this is only on the right tail side\n",
    "\n",
    "The range of most reviews will be between 0-13 people finding helpful (reviews.numHelpful)\n",
    "\n",
    "The most helpful review was helpful to 814 people\n",
    "\n",
    "This could be a detailed, rich review that will be worth looking at"
   ]
  },
  {
   "cell_type": "code",
   "execution_count": 4,
   "metadata": {},
   "outputs": [
    {
     "name": "stdout",
     "output_type": "stream",
     "text": [
      "<class 'pandas.core.frame.DataFrame'>\n",
      "RangeIndex: 34660 entries, 0 to 34659\n",
      "Data columns (total 21 columns):\n",
      " #   Column                Non-Null Count  Dtype  \n",
      "---  ------                --------------  -----  \n",
      " 0   id                    34660 non-null  object \n",
      " 1   name                  27900 non-null  object \n",
      " 2   asins                 34658 non-null  object \n",
      " 3   brand                 34660 non-null  object \n",
      " 4   categories            34660 non-null  object \n",
      " 5   keys                  34660 non-null  object \n",
      " 6   manufacturer          34660 non-null  object \n",
      " 7   reviews.date          34621 non-null  object \n",
      " 8   reviews.dateAdded     24039 non-null  object \n",
      " 9   reviews.dateSeen      34660 non-null  object \n",
      " 10  reviews.didPurchase   1 non-null      object \n",
      " 11  reviews.doRecommend   34066 non-null  object \n",
      " 12  reviews.id            1 non-null      float64\n",
      " 13  reviews.numHelpful    34131 non-null  float64\n",
      " 14  reviews.rating        34627 non-null  float64\n",
      " 15  reviews.sourceURLs    34660 non-null  object \n",
      " 16  reviews.text          34659 non-null  object \n",
      " 17  reviews.title         34655 non-null  object \n",
      " 18  reviews.userCity      0 non-null      float64\n",
      " 19  reviews.userProvince  0 non-null      float64\n",
      " 20  reviews.username      34658 non-null  object \n",
      "dtypes: float64(5), object(16)\n",
      "memory usage: 5.6+ MB\n"
     ]
    }
   ],
   "source": [
    "\n",
    "data.info()"
   ]
  },
  {
   "cell_type": "code",
   "execution_count": 5,
   "metadata": {},
   "outputs": [
    {
     "data": {
      "text/plain": [
       "array(['B01AHB9CN2', 'B00VINDBJK', 'B005PB2T0S', 'B002Y27P3M',\n",
       "       'B01AHB9CYG', 'B01AHB9C1E', 'B01J2G4VBG', 'B00ZV9PXP2',\n",
       "       'B0083Q04TA', 'B018Y229OU', 'B00REQKWGA', 'B00IOYAM4I',\n",
       "       'B018T075DC', nan, 'B00DU15MU4', 'B018Y225IA', 'B005PB2T2Q',\n",
       "       'B018Y23MNM', 'B00OQVZDJM', 'B00IOY8XWQ', 'B00LO29KXQ',\n",
       "       'B00QJDU3KY', 'B018Y22C2Y', 'B01BFIBRIE', 'B01J4ORNHU',\n",
       "       'B018SZT3BK', 'B00UH4D8G2', 'B018Y22BI4', 'B00TSUGXKE',\n",
       "       'B00L9EPT8O,B01E6AO69U', 'B018Y23P7K', 'B00X4WHP5E', 'B00QFQRELG',\n",
       "       'B00LW9XOJM', 'B00QL1ZN3G', 'B0189XYY0Q', 'B01BH83OOM',\n",
       "       'B00BFJAHF8', 'B00U3FPN4U', 'B002Y27P6Y', 'B006GWO5NE',\n",
       "       'B006GWO5WK'], dtype=object)"
      ]
     },
     "execution_count": 5,
     "metadata": {},
     "output_type": "execute_result"
    }
   ],
   "source": [
    "data[\"asins\"].unique()"
   ]
  },
  {
   "cell_type": "code",
   "execution_count": 6,
   "metadata": {},
   "outputs": [
    {
     "name": "stdout",
     "output_type": "stream",
     "text": [
      "Number of Unique ASINs: 42\n"
     ]
    }
   ],
   "source": [
    "asins_unique = len(data[\"asins\"].unique())\n",
    "print(\"Number of Unique ASINs: \" + str(asins_unique))"
   ]
  },
  {
   "cell_type": "markdown",
   "metadata": {},
   "source": [
    "### Visualizing the distributions of numerical variables:"
   ]
  },
  {
   "cell_type": "code",
   "execution_count": 7,
   "metadata": {},
   "outputs": [
    {
     "data": {
      "image/png": "[encoded data removed]",
      "text/plain": [
       "<Figure size 1440x1080 with 6 Axes>"
      ]
     },
     "metadata": {
      "needs_background": "light"
     },
     "output_type": "display_data"
    }
   ],
   "source": [
    "\n",
    "data.hist(bins=50, figsize=(20,15)) # builds histogram and set the number of bins and fig size (width, height)\n",
    "plt.show()"
   ]
  },
  {
   "cell_type": "markdown",
   "metadata": {},
   "source": [
    "Based on the distributions above:\n",
    "\n",
    "###### .reviews.numHelpful: Outliers in this case are valuable, so we may want to weight reviews that had more than 50+ people who find them helpful\n",
    "\n",
    "###### .reviews.rating: Majority of examples were rated highly (looking at rating distribution). There is twice amount of 5 star ratings than the others ratings combined"
   ]
  },
  {
   "cell_type": "markdown",
   "metadata": {},
   "source": [
    "### 3 Split into Train/Test"
   ]
  },
  {
   "cell_type": "code",
   "execution_count": 8,
   "metadata": {},
   "outputs": [
    {
     "name": "stdout",
     "output_type": "stream",
     "text": [
      "Before 34660\n",
      "After 34627\n"
     ]
    }
   ],
   "source": [
    "from sklearn.model_selection import StratifiedShuffleSplit\n",
    "print(\"Before {}\".format(len(data)))\n",
    "dataAfter = data.dropna(subset=[\"reviews.rating\"]) # removes all NAN in reviews.rating\n",
    "print(\"After {}\".format(len(dataAfter)))\n",
    "dataAfter[\"reviews.rating\"] = dataAfter[\"reviews.rating\"].astype(int)"
   ]
  },
  {
   "cell_type": "code",
   "execution_count": 9,
   "metadata": {},
   "outputs": [],
   "source": [
    "split = StratifiedShuffleSplit(n_splits=5, test_size=0.2)\n",
    "for train_index, test_index in split.split(dataAfter, dataAfter[\"reviews.rating\"]): \n",
    "    strat_train = dataAfter.reindex(train_index)\n",
    "    strat_test = dataAfter.reindex(test_index)"
   ]
  },
  {
   "cell_type": "markdown",
   "metadata": {},
   "source": [
    "#### Check to see if train/test sets were stratified proportionately in comparison to raw data."
   ]
  },
  {
   "cell_type": "code",
   "execution_count": 10,
   "metadata": {},
   "outputs": [
    {
     "data": {
      "text/plain": [
       "27701"
      ]
     },
     "execution_count": 10,
     "metadata": {},
     "output_type": "execute_result"
    }
   ],
   "source": [
    "len(strat_train)"
   ]
  },
  {
   "cell_type": "code",
   "execution_count": 11,
   "metadata": {},
   "outputs": [
    {
     "data": {
      "text/plain": [
       "5.0    0.685174\n",
       "4.0    0.247031\n",
       "3.0    0.043500\n",
       "2.0    0.011696\n",
       "1.0    0.011588\n",
       "Name: reviews.rating, dtype: float64"
      ]
     },
     "execution_count": 11,
     "metadata": {},
     "output_type": "execute_result"
    }
   ],
   "source": [
    "strat_train[\"reviews.rating\"].value_counts()/len(strat_train) # value_count() counts all the values based on column"
   ]
  },
  {
   "cell_type": "code",
   "execution_count": 12,
   "metadata": {},
   "outputs": [
    {
     "data": {
      "text/plain": [
       "6926"
      ]
     },
     "execution_count": 12,
     "metadata": {},
     "output_type": "execute_result"
    }
   ],
   "source": [
    "len(strat_test)"
   ]
  },
  {
   "cell_type": "code",
   "execution_count": 13,
   "metadata": {},
   "outputs": [
    {
     "data": {
      "text/plain": [
       "5.0    0.689864\n",
       "4.0    0.244730\n",
       "3.0    0.042160\n",
       "1.0    0.011406\n",
       "2.0    0.011118\n",
       "Name: reviews.rating, dtype: float64"
      ]
     },
     "execution_count": 13,
     "metadata": {},
     "output_type": "execute_result"
    }
   ],
   "source": [
    "strat_test[\"reviews.rating\"].value_counts()/len(strat_test)"
   ]
  },
  {
   "cell_type": "markdown",
   "metadata": {},
   "source": [
    "## 4 Data Exploration (Training Set)"
   ]
  },
  {
   "cell_type": "code",
   "execution_count": 14,
   "metadata": {},
   "outputs": [
    {
     "data": {
      "text/html": [
       "<div>\n",
       "<style scoped>\n",
       "    .dataframe tbody tr th:only-of-type {\n",
       "        vertical-align: middle;\n",
       "    }\n",
       "\n",
       "    .dataframe tbody tr th {\n",
       "        vertical-align: top;\n",
       "    }\n",
       "\n",
       "    .dataframe thead th {\n",
       "        text-align: right;\n",
       "    }\n",
       "</style>\n",
       "<table border=\"1\" class=\"dataframe\">\n",
       "  <thead>\n",
       "    <tr style=\"text-align: right;\">\n",
       "      <th></th>\n",
       "      <th>id</th>\n",
       "      <th>name</th>\n",
       "      <th>asins</th>\n",
       "      <th>brand</th>\n",
       "      <th>categories</th>\n",
       "      <th>keys</th>\n",
       "      <th>manufacturer</th>\n",
       "      <th>reviews.date</th>\n",
       "      <th>reviews.dateAdded</th>\n",
       "      <th>reviews.dateSeen</th>\n",
       "      <th>...</th>\n",
       "      <th>reviews.doRecommend</th>\n",
       "      <th>reviews.id</th>\n",
       "      <th>reviews.numHelpful</th>\n",
       "      <th>reviews.rating</th>\n",
       "      <th>reviews.sourceURLs</th>\n",
       "      <th>reviews.text</th>\n",
       "      <th>reviews.title</th>\n",
       "      <th>reviews.userCity</th>\n",
       "      <th>reviews.userProvince</th>\n",
       "      <th>reviews.username</th>\n",
       "    </tr>\n",
       "  </thead>\n",
       "  <tbody>\n",
       "    <tr>\n",
       "      <th>4349</th>\n",
       "      <td>AVphgVaX1cnluZ0-DR74</td>\n",
       "      <td>Fire Tablet, 7 Display, Wi-Fi, 8 GB - Includes...</td>\n",
       "      <td>B018Y229OU</td>\n",
       "      <td>Amazon</td>\n",
       "      <td>Fire Tablets,Tablets,Computers &amp; Tablets,All T...</td>\n",
       "      <td>firetablet7displaywifi8gbincludesspecialoffers...</td>\n",
       "      <td>Amazon</td>\n",
       "      <td>2015-11-28T00:00:00.000Z</td>\n",
       "      <td>2017-05-21T04:06:08Z</td>\n",
       "      <td>2017-04-30T00:26:00.000Z,2017-06-07T08:10:00.000Z</td>\n",
       "      <td>...</td>\n",
       "      <td>True</td>\n",
       "      <td>NaN</td>\n",
       "      <td>5.0</td>\n",
       "      <td>5.0</td>\n",
       "      <td>http://reviews.bestbuy.com/3545/5025800/review...</td>\n",
       "      <td>we bought this for my 11 year old daughter and...</td>\n",
       "      <td>great for all ages</td>\n",
       "      <td>NaN</td>\n",
       "      <td>NaN</td>\n",
       "      <td>Mark</td>\n",
       "    </tr>\n",
       "    <tr>\n",
       "      <th>30776</th>\n",
       "      <td>AV1YE_muvKc47QAVgpwE</td>\n",
       "      <td>NaN</td>\n",
       "      <td>B00U3FPN4U</td>\n",
       "      <td>Amazon Fire Tv</td>\n",
       "      <td>Back To College,College Electronics,College Tv...</td>\n",
       "      <td>848719057492,amazonfiretv/51454342,amazonfiret...</td>\n",
       "      <td>Amazon</td>\n",
       "      <td>2017-01-06T00:00:00.000Z</td>\n",
       "      <td>2017-09-20T05:35:55Z</td>\n",
       "      <td>2017-08-25T22:21:42.763Z,2017-08-19T09:26:46.1...</td>\n",
       "      <td>...</td>\n",
       "      <td>True</td>\n",
       "      <td>NaN</td>\n",
       "      <td>0.0</td>\n",
       "      <td>5.0</td>\n",
       "      <td>http://reviews.bestbuy.com/3545/4370400/review...</td>\n",
       "      <td>I have the Roku 4, and new Apple TV, this stre...</td>\n",
       "      <td>Great streaming box</td>\n",
       "      <td>NaN</td>\n",
       "      <td>NaN</td>\n",
       "      <td>Techno</td>\n",
       "    </tr>\n",
       "  </tbody>\n",
       "</table>\n",
       "<p>2 rows × 21 columns</p>\n",
       "</div>"
      ],
      "text/plain": [
       "                         id  \\\n",
       "4349   AVphgVaX1cnluZ0-DR74   \n",
       "30776  AV1YE_muvKc47QAVgpwE   \n",
       "\n",
       "                                                    name       asins  \\\n",
       "4349   Fire Tablet, 7 Display, Wi-Fi, 8 GB - Includes...  B018Y229OU   \n",
       "30776                                                NaN  B00U3FPN4U   \n",
       "\n",
       "                brand                                         categories  \\\n",
       "4349           Amazon  Fire Tablets,Tablets,Computers & Tablets,All T...   \n",
       "30776  Amazon Fire Tv  Back To College,College Electronics,College Tv...   \n",
       "\n",
       "                                                    keys manufacturer  \\\n",
       "4349   firetablet7displaywifi8gbincludesspecialoffers...       Amazon   \n",
       "30776  848719057492,amazonfiretv/51454342,amazonfiret...       Amazon   \n",
       "\n",
       "                   reviews.date     reviews.dateAdded  \\\n",
       "4349   2015-11-28T00:00:00.000Z  2017-05-21T04:06:08Z   \n",
       "30776  2017-01-06T00:00:00.000Z  2017-09-20T05:35:55Z   \n",
       "\n",
       "                                        reviews.dateSeen  ...  \\\n",
       "4349   2017-04-30T00:26:00.000Z,2017-06-07T08:10:00.000Z  ...   \n",
       "30776  2017-08-25T22:21:42.763Z,2017-08-19T09:26:46.1...  ...   \n",
       "\n",
       "      reviews.doRecommend reviews.id  reviews.numHelpful  reviews.rating  \\\n",
       "4349                 True        NaN                 5.0             5.0   \n",
       "30776                True        NaN                 0.0             5.0   \n",
       "\n",
       "                                      reviews.sourceURLs  \\\n",
       "4349   http://reviews.bestbuy.com/3545/5025800/review...   \n",
       "30776  http://reviews.bestbuy.com/3545/4370400/review...   \n",
       "\n",
       "                                            reviews.text        reviews.title  \\\n",
       "4349   we bought this for my 11 year old daughter and...   great for all ages   \n",
       "30776  I have the Roku 4, and new Apple TV, this stre...  Great streaming box   \n",
       "\n",
       "      reviews.userCity  reviews.userProvince  reviews.username  \n",
       "4349               NaN                   NaN              Mark  \n",
       "30776              NaN                   NaN            Techno  \n",
       "\n",
       "[2 rows x 21 columns]"
      ]
     },
     "execution_count": 14,
     "metadata": {},
     "output_type": "execute_result"
    }
   ],
   "source": [
    "reviews = strat_train.copy()\n",
    "reviews.head(2)"
   ]
  },
  {
   "cell_type": "markdown",
   "metadata": {},
   "source": [
    "### 4.1 names / ASINs"
   ]
  },
  {
   "cell_type": "code",
   "execution_count": 15,
   "metadata": {},
   "outputs": [
    {
     "data": {
      "text/plain": [
       "(47, 35)"
      ]
     },
     "execution_count": 15,
     "metadata": {},
     "output_type": "execute_result"
    }
   ],
   "source": [
    "len(reviews[\"name\"].unique()), len(reviews[\"asins\"].unique())"
   ]
  },
  {
   "cell_type": "code",
   "execution_count": 16,
   "metadata": {},
   "outputs": [
    {
     "name": "stdout",
     "output_type": "stream",
     "text": [
      "<class 'pandas.core.frame.DataFrame'>\n",
      "Int64Index: 27701 entries, 4349 to 29636\n",
      "Data columns (total 21 columns):\n",
      " #   Column                Non-Null Count  Dtype  \n",
      "---  ------                --------------  -----  \n",
      " 0   id                    27673 non-null  object \n",
      " 1   name                  22268 non-null  object \n",
      " 2   asins                 27672 non-null  object \n",
      " 3   brand                 27673 non-null  object \n",
      " 4   categories            27673 non-null  object \n",
      " 5   keys                  27673 non-null  object \n",
      " 6   manufacturer          27673 non-null  object \n",
      " 7   reviews.date          27659 non-null  object \n",
      " 8   reviews.dateAdded     19228 non-null  object \n",
      " 9   reviews.dateSeen      27673 non-null  object \n",
      " 10  reviews.didPurchase   1 non-null      object \n",
      " 11  reviews.doRecommend   27257 non-null  object \n",
      " 12  reviews.id            1 non-null      float64\n",
      " 13  reviews.numHelpful    27304 non-null  float64\n",
      " 14  reviews.rating        27673 non-null  float64\n",
      " 15  reviews.sourceURLs    27673 non-null  object \n",
      " 16  reviews.text          27672 non-null  object \n",
      " 17  reviews.title         27668 non-null  object \n",
      " 18  reviews.userCity      0 non-null      float64\n",
      " 19  reviews.userProvince  0 non-null      float64\n",
      " 20  reviews.username      27671 non-null  object \n",
      "dtypes: float64(5), object(16)\n",
      "memory usage: 4.6+ MB\n"
     ]
    }
   ],
   "source": [
    "reviews.info()"
   ]
  },
  {
   "cell_type": "code",
   "execution_count": 17,
   "metadata": {},
   "outputs": [
    {
     "data": {
      "text/plain": [
       "asins\n",
       "B005PB2T0S               [Amazon Kindle Lighted Leather Cover,,,\\r\\nAma...\n",
       "B005PB2T2Q               [Fire Kids Edition Tablet, 7 Display, Wi-Fi, 1...\n",
       "B00IOY8XWQ               [Kindle Paperwhite,,,\\r\\nKindle Paperwhite,,,,...\n",
       "B00IOYAM4I               [Brand New Amazon Kindle Fire 16gb 7 Ips Displ...\n",
       "B00L9EPT8O,B01E6AO69U    [Echo (White),,,\\r\\nEcho (White),,,, Amazon Fi...\n",
       "B00LO29KXQ               [Fire Tablet, 7 Display, Wi-Fi, 8 GB - Include...\n",
       "B00LW9XOJM                                                           [nan]\n",
       "B00OQVZDJM               [Amazon Kindle Paperwhite - eBook reader - 4 G...\n",
       "B00QFQRELG                                                           [nan]\n",
       "B00QJDU3KY               [Fire Tablet, 7 Display, Wi-Fi, 8 GB - Include...\n",
       "B00QL1ZN3G                                                           [nan]\n",
       "B00REQKWGA               [Brand New Amazon Kindle Fire 16gb 7 Ips Displ...\n",
       "B00TSUGXKE                            [Echo (White),,,\\r\\nEcho (White),,,]\n",
       "B00U3FPN4U                                                           [nan]\n",
       "B00UH4D8G2                            [Echo (White),,,\\r\\nEcho (White),,,]\n",
       "B00VINDBJK               [Kindle Oasis E-reader with Leather Charging C...\n",
       "B00X4WHP5E                                                           [nan]\n",
       "B00ZV9PXP2               [Fire Tablet, 7 Display, Wi-Fi, 8 GB - Include...\n",
       "B0189XYY0Q                                                           [nan]\n",
       "B018SZT3BK               [Fire Tablet, 7 Display, Wi-Fi, 8 GB - Include...\n",
       "B018T075DC               [Brand New Amazon Kindle Fire 16gb 7 Ips Displ...\n",
       "B018Y225IA               [Brand New Amazon Kindle Fire 16gb 7 Ips Displ...\n",
       "B018Y229OU               [Fire Tablet, 7 Display, Wi-Fi, 8 GB - Include...\n",
       "B018Y22BI4                            [Echo (White),,,\\r\\nEcho (White),,,]\n",
       "B018Y22C2Y               [Fire Tablet, 7 Display, Wi-Fi, 8 GB - Include...\n",
       "B018Y23MNM               [Fire Kids Edition Tablet, 7 Display, Wi-Fi, 1...\n",
       "B018Y23P7K                                                           [nan]\n",
       "B01AHB9C1E               [Amazon 5W USB Official OEM Charger and Power ...\n",
       "B01AHB9CN2               [All-New Fire HD 8 Tablet, 8 HD Display, Wi-Fi...\n",
       "B01AHB9CYG               [All-New Fire HD 8 Tablet, 8 HD Display, Wi-Fi...\n",
       "B01BFIBRIE               [Fire Tablet, 7 Display, Wi-Fi, 8 GB - Include...\n",
       "B01BH83OOM                                                           [nan]\n",
       "B01J2G4VBG               [All-New Kindle E-reader - Black, 6 Glare-Free...\n",
       "B01J4ORNHU               [Fire Tablet, 7 Display, Wi-Fi, 8 GB - Include...\n",
       "Name: name, dtype: object"
      ]
     },
     "execution_count": 17,
     "metadata": {},
     "output_type": "execute_result"
    }
   ],
   "source": [
    "reviews.groupby(\"asins\")[\"name\"].unique()"
   ]
  },
  {
   "cell_type": "code",
   "execution_count": 18,
   "metadata": {},
   "outputs": [
    {
     "name": "stdout",
     "output_type": "stream",
     "text": [
      "Echo (White),,,\r\n",
      "Echo (White),,,\n",
      "Amazon Fire Tv,,,\r\n",
      "Amazon Fire Tv,,,\n",
      "nan\n",
      "Amazon - Amazon Tap Portable Bluetooth and Wi-Fi Speaker - Black,,,\r\n",
      "Amazon - Amazon Tap Portable Bluetooth and Wi-Fi Speaker - Black,,,\n",
      "Amazon Fire Hd 10 Tablet, Wi-Fi, 16 Gb, Special Offers - Silver Aluminum,,,\r\n",
      "Amazon Fire Hd 10 Tablet, Wi-Fi, 16 Gb, Special Offers - Silver Aluminum,,,\n",
      "Amazon 9W PowerFast Official OEM USB Charger and Power Adapter for Fire Tablets and Kindle eReaders,,,\r\n",
      "Amazon 9W PowerFast Official OEM USB Charger and Power Adapter for Fire Tablets and Kindle eReaders,,,\n",
      "Amazon Kindle Fire 5ft USB to Micro-USB Cable (works with most Micro-USB Tablets),,,\r\n",
      "Amazon Kindle Fire 5ft USB to Micro-USB Cable (works with most Micro-USB Tablets),,,\n",
      "Kindle Dx Leather Cover, Black (fits 9.7 Display, Latest and 2nd Generation Kindle Dxs),,\n",
      "Amazon Fire Hd 6 Standing Protective Case(4th Generation - 2014 Release), Cayenne Red,,,\r\n",
      "Amazon Fire Hd 6 Standing Protective Case(4th Generation - 2014 Release), Cayenne Red,,,\n",
      "Amazon Fire Hd 6 Standing Protective Case(4th Generation - 2014 Release), Cayenne Red,,,\r\n",
      "Amazon 5W USB Official OEM Charger and Power Adapter for Fire Tablets and Kindle eReaders,,,\n",
      "New Amazon Kindle Fire Hd 9w Powerfast Adapter Charger + Micro Usb Angle Cable,,,\r\n",
      "New Amazon Kindle Fire Hd 9w Powerfast Adapter Charger + Micro Usb Angle Cable,,,\n",
      "Amazon 5W USB Official OEM Charger and Power Adapter for Fire Tablets and Kindle eReaders,,,\r\n",
      "Amazon 5W USB Official OEM Charger and Power Adapter for Fire Tablets and Kindle eReaders,,,\n",
      "Echo (White),,,\r\n",
      "Fire Tablet, 7 Display, Wi-Fi, 8 GB - Includes Special Offers, Tangerine\"\n",
      "Echo (Black),,,\r\n",
      "Amazon 9W PowerFast Official OEM USB Charger and Power Adapter for Fire Tablets and Kindle eReaders,,,\n",
      "Echo (Black),,,\r\n",
      "Echo (Black),,,\n",
      "Amazon Fire Tv,,,\r\n",
      "Kindle Dx Leather Cover, Black (fits 9.7 Display, Latest and 2nd Generation Kindle Dxs)\",,\n",
      "New Amazon Kindle Fire Hd 9w Powerfast Adapter Charger + Micro Usb Angle Cable,,,\r\n",
      "\n"
     ]
    }
   ],
   "source": [
    "# Lets see all the different names for this product that have 2 ASINs\n",
    "different_names = reviews[reviews[\"asins\"] == \"B00L9EPT8O,B01E6AO69U\"][\"name\"].unique()\n",
    "for name in different_names:\n",
    "    print(name)"
   ]
  },
  {
   "cell_type": "code",
   "execution_count": 19,
   "metadata": {},
   "outputs": [
    {
     "data": {
      "text/plain": [
       "Echo (White),,,\\r\\nEcho (White),,,                                                                                                                                                                                  2318\n",
       "Amazon Fire Tv,,,\\r\\nAmazon Fire Tv,,,                                                                                                                                                                              2029\n",
       "Amazon - Amazon Tap Portable Bluetooth and Wi-Fi Speaker - Black,,,\\r\\nAmazon - Amazon Tap Portable Bluetooth and Wi-Fi Speaker - Black,,,                                                                           259\n",
       "Amazon Fire Hd 10 Tablet, Wi-Fi, 16 Gb, Special Offers - Silver Aluminum,,,\\r\\nAmazon Fire Hd 10 Tablet, Wi-Fi, 16 Gb, Special Offers - Silver Aluminum,,,                                                           106\n",
       "Amazon 9W PowerFast Official OEM USB Charger and Power Adapter for Fire Tablets and Kindle eReaders,,,\\r\\nAmazon 9W PowerFast Official OEM USB Charger and Power Adapter for Fire Tablets and Kindle eReaders,,,      28\n",
       "Kindle Dx Leather Cover, Black (fits 9.7 Display, Latest and 2nd Generation Kindle Dxs),,                                                                                                                              7\n",
       "Amazon Fire Hd 6 Standing Protective Case(4th Generation - 2014 Release), Cayenne Red,,,\\r\\nAmazon Fire Hd 6 Standing Protective Case(4th Generation - 2014 Release), Cayenne Red,,,                                   5\n",
       "New Amazon Kindle Fire Hd 9w Powerfast Adapter Charger + Micro Usb Angle Cable,,,\\r\\nNew Amazon Kindle Fire Hd 9w Powerfast Adapter Charger + Micro Usb Angle Cable,,,                                                 5\n",
       "Amazon 5W USB Official OEM Charger and Power Adapter for Fire Tablets and Kindle eReaders,,,\\r\\nAmazon 5W USB Official OEM Charger and Power Adapter for Fire Tablets and Kindle eReaders,,,                           5\n",
       "Amazon Kindle Fire 5ft USB to Micro-USB Cable (works with most Micro-USB Tablets),,,\\r\\nAmazon Kindle Fire 5ft USB to Micro-USB Cable (works with most Micro-USB Tablets),,,                                           4\n",
       "Echo (Black),,,\\r\\nEcho (Black),,,                                                                                                                                                                                     3\n",
       "New Amazon Kindle Fire Hd 9w Powerfast Adapter Charger + Micro Usb Angle Cable,,,\\r\\n                                                                                                                                  1\n",
       "Amazon Fire Tv,,,\\r\\nKindle Dx Leather Cover, Black (fits 9.7 Display, Latest and 2nd Generation Kindle Dxs)\",,                                                                                                        1\n",
       "Echo (White),,,\\r\\nFire Tablet, 7 Display, Wi-Fi, 8 GB - Includes Special Offers, Tangerine\"                                                                                                                           1\n",
       "Echo (Black),,,\\r\\nAmazon 9W PowerFast Official OEM USB Charger and Power Adapter for Fire Tablets and Kindle eReaders,,,                                                                                              1\n",
       "Amazon Fire Hd 6 Standing Protective Case(4th Generation - 2014 Release), Cayenne Red,,,\\r\\nAmazon 5W USB Official OEM Charger and Power Adapter for Fire Tablets and Kindle eReaders,,,                               1\n",
       "Name: name, dtype: int64"
      ]
     },
     "execution_count": 19,
     "metadata": {},
     "output_type": "execute_result"
    }
   ],
   "source": [
    "reviews[reviews[\"asins\"] == \"B00L9EPT8O,B01E6AO69U\"][\"name\"].value_counts()"
   ]
  },
  {
   "cell_type": "markdown",
   "metadata": {},
   "source": [
    "#### Confirmed our hypothesis that each ASIN can have multiple names. Therefore we should only really concern ourselves with which ASINs do well, not the product names."
   ]
  },
  {
   "cell_type": "code",
   "execution_count": 20,
   "metadata": {},
   "outputs": [
    {
     "data": {
      "image/png": "[encoded data removed]",
      "text/plain": [
       "<Figure size 1152x720 with 2 Axes>"
      ]
     },
     "metadata": {
      "needs_background": "light"
     },
     "output_type": "display_data"
    }
   ],
   "source": [
    "fig = plt.figure(figsize=(16,10))\n",
    "ax1 = plt.subplot(211)\n",
    "ax2 = plt.subplot(212, sharex = ax1)\n",
    "reviews[\"asins\"].value_counts().plot(kind=\"bar\", ax=ax1, title=\"ASIN Frequency\")\n",
    "np.log10(reviews[\"asins\"].value_counts()).plot(kind=\"bar\", ax=ax2, title=\"ASIN Frequency (Log10 Adjusted)\") \n",
    "plt.show()"
   ]
  },
  {
   "cell_type": "markdown",
   "metadata": {},
   "source": [
    "###### Based on the bar graph for ASINs, we see that certain products have significantly more reviews than other products, which may indicate a higher sale in those specific products\n",
    "\n",
    "###### We also see that the ASINs have a \"right tailed\" distribution which can also suggest that certain products have higher sales which can correlate to the higher ASINs frequencies in the reviews\n",
    "\n",
    "###### We also took the log of the ASINs to normalize the data, in order display an in-depth picture of each ASINs, and we see that the distribution still follows a \"right tailed\" distribution\n",
    "\n",
    "###### This answers the first question that certain ASINs (products) have better sales, while other ASINs have lower sale, and in turn dictates which products should be kept or dropped."
   ]
  },
  {
   "cell_type": "code",
   "execution_count": 21,
   "metadata": {},
   "outputs": [
    {
     "data": {
      "text/plain": [
       "4.5841072525566435"
      ]
     },
     "execution_count": 21,
     "metadata": {},
     "output_type": "execute_result"
    }
   ],
   "source": [
    "# Entire training dataset average rating\n",
    "reviews[\"reviews.rating\"].mean()"
   ]
  },
  {
   "cell_type": "markdown",
   "metadata": {},
   "source": [
    "### 4.2 reviews.rating / ASINs"
   ]
  },
  {
   "cell_type": "code",
   "execution_count": 22,
   "metadata": {},
   "outputs": [
    {
     "data": {
      "image/png": "[encoded data removed]",
      "text/plain": [
       "<Figure size 1152x864 with 2 Axes>"
      ]
     },
     "metadata": {
      "needs_background": "light"
     },
     "output_type": "display_data"
    }
   ],
   "source": [
    "asins_count_ix = reviews[\"asins\"].value_counts().index\n",
    "plt.subplots(2,1,figsize=(16,12))\n",
    "plt.subplot(2,1,1)\n",
    "reviews[\"asins\"].value_counts().plot(kind=\"bar\", title=\"ASIN Frequency\")\n",
    "plt.subplot(2,1,2)\n",
    "sns.pointplot(x=\"asins\", y=\"reviews.rating\", order=asins_count_ix, data=reviews)\n",
    "plt.xticks(rotation=90)\n",
    "plt.show()"
   ]
  },
  {
   "cell_type": "markdown",
   "metadata": {},
   "source": [
    "###### 1a) The most frequently reviewed products have their average review ratings in the 4.5 - 4.8 range, with little variance\n",
    "\n",
    "###### 1b) Although there is a slight inverse relationship between the ASINs frequency level and average review ratings for the first 4 ASINs, this relationship is not significant since the average review for the first 4 ASINs are rated between 4.5 - 4.8, which is considered good overall reviews\n",
    "\n",
    "###### 2a) For ASINs with lower frequencies as shown on the bar graph (top), we see that their corresponding average review ratings on the point-plot graph (bottom) has significantly higher variance as shown by the length of the vertical lines. As a result, we suggest that, the average review ratings for ASINs with lower frequencies are not significant for our analysis due to high variance.\n",
    "\n",
    "###### 2b) On the other hand, due to their lower frequencies for ASINs with lower frequencies, we suggest that this is a result of lower quality products\n",
    "\n",
    "###### 2c) Furthermore, the last 4 ASINs have no variance due to their significantly lower frequencies, and although the review ratings are a perfect 5.0, but we should not consider the significance of these review ratings due to lower frequency as explained in 2a)\n",
    "that point-plot graph automatically takes the average of the review.rating data."
   ]
  },
  {
   "cell_type": "markdown",
   "metadata": {},
   "source": [
    "### 4.3 reviews.doRecommend / ASINs"
   ]
  },
  {
   "cell_type": "code",
   "execution_count": 23,
   "metadata": {},
   "outputs": [
    {
     "data": {
      "image/png": "[encoded data removed]",
      "text/plain": [
       "<Figure size 1152x864 with 2 Axes>"
      ]
     },
     "metadata": {
      "needs_background": "light"
     },
     "output_type": "display_data"
    }
   ],
   "source": [
    "plt.subplots (2,1,figsize=(16,12))\n",
    "plt.subplot(2,1,1)\n",
    "reviews[\"asins\"].value_counts().plot(kind=\"bar\", title=\"ASIN Frequency\")\n",
    "plt.subplot(2,1,2)\n",
    "sns.pointplot(x=\"asins\", y=\"reviews.doRecommend\", order=asins_count_ix, data=reviews)\n",
    "plt.xticks(rotation=90)\n",
    "plt.show()\n"
   ]
  },
  {
   "cell_type": "markdown",
   "metadata": {},
   "source": [
    "###### From this analysis, we can see that the first 19 ASINs show that consumers recommend the product, which is consistent with the \"reviews.rating / ASINs\" analysis above, where the first 19 ASINs have good ratings between 4.0 to 5.0\n",
    "\n",
    "###### The remaining ASINs have fluctuating results due to lower sample size, which should not be considered\n",
    "\n",
    "###### : reviews.text will be analyzed in Sentiment Analysis."
   ]
  },
  {
   "cell_type": "markdown",
   "metadata": {},
   "source": [
    "### 5 Correlations"
   ]
  },
  {
   "cell_type": "code",
   "execution_count": 24,
   "metadata": {},
   "outputs": [
    {
     "data": {
      "text/html": [
       "<div>\n",
       "<style scoped>\n",
       "    .dataframe tbody tr th:only-of-type {\n",
       "        vertical-align: middle;\n",
       "    }\n",
       "\n",
       "    .dataframe tbody tr th {\n",
       "        vertical-align: top;\n",
       "    }\n",
       "\n",
       "    .dataframe thead th {\n",
       "        text-align: right;\n",
       "    }\n",
       "</style>\n",
       "<table border=\"1\" class=\"dataframe\">\n",
       "  <thead>\n",
       "    <tr style=\"text-align: right;\">\n",
       "      <th></th>\n",
       "      <th>reviews.id</th>\n",
       "      <th>reviews.numHelpful</th>\n",
       "      <th>reviews.rating</th>\n",
       "      <th>reviews.userCity</th>\n",
       "      <th>reviews.userProvince</th>\n",
       "    </tr>\n",
       "  </thead>\n",
       "  <tbody>\n",
       "    <tr>\n",
       "      <th>reviews.id</th>\n",
       "      <td>NaN</td>\n",
       "      <td>NaN</td>\n",
       "      <td>NaN</td>\n",
       "      <td>NaN</td>\n",
       "      <td>NaN</td>\n",
       "    </tr>\n",
       "    <tr>\n",
       "      <th>reviews.numHelpful</th>\n",
       "      <td>NaN</td>\n",
       "      <td>1.00000</td>\n",
       "      <td>-0.04372</td>\n",
       "      <td>NaN</td>\n",
       "      <td>NaN</td>\n",
       "    </tr>\n",
       "    <tr>\n",
       "      <th>reviews.rating</th>\n",
       "      <td>NaN</td>\n",
       "      <td>-0.04372</td>\n",
       "      <td>1.00000</td>\n",
       "      <td>NaN</td>\n",
       "      <td>NaN</td>\n",
       "    </tr>\n",
       "    <tr>\n",
       "      <th>reviews.userCity</th>\n",
       "      <td>NaN</td>\n",
       "      <td>NaN</td>\n",
       "      <td>NaN</td>\n",
       "      <td>NaN</td>\n",
       "      <td>NaN</td>\n",
       "    </tr>\n",
       "    <tr>\n",
       "      <th>reviews.userProvince</th>\n",
       "      <td>NaN</td>\n",
       "      <td>NaN</td>\n",
       "      <td>NaN</td>\n",
       "      <td>NaN</td>\n",
       "      <td>NaN</td>\n",
       "    </tr>\n",
       "  </tbody>\n",
       "</table>\n",
       "</div>"
      ],
      "text/plain": [
       "                      reviews.id  reviews.numHelpful  reviews.rating  \\\n",
       "reviews.id                   NaN                 NaN             NaN   \n",
       "reviews.numHelpful           NaN             1.00000        -0.04372   \n",
       "reviews.rating               NaN            -0.04372         1.00000   \n",
       "reviews.userCity             NaN                 NaN             NaN   \n",
       "reviews.userProvince         NaN                 NaN             NaN   \n",
       "\n",
       "                      reviews.userCity  reviews.userProvince  \n",
       "reviews.id                         NaN                   NaN  \n",
       "reviews.numHelpful                 NaN                   NaN  \n",
       "reviews.rating                     NaN                   NaN  \n",
       "reviews.userCity                   NaN                   NaN  \n",
       "reviews.userProvince               NaN                   NaN  "
      ]
     },
     "execution_count": 24,
     "metadata": {},
     "output_type": "execute_result"
    }
   ],
   "source": [
    "corr_matrix = reviews.corr()\n",
    "corr_matrix\n",
    "# Here we can analyze reviews.ratings with asins"
   ]
  },
  {
   "cell_type": "code",
   "execution_count": 25,
   "metadata": {},
   "outputs": [
    {
     "name": "stdout",
     "output_type": "stream",
     "text": [
      "<class 'pandas.core.frame.DataFrame'>\n",
      "Int64Index: 27701 entries, 4349 to 29636\n",
      "Data columns (total 21 columns):\n",
      " #   Column                Non-Null Count  Dtype  \n",
      "---  ------                --------------  -----  \n",
      " 0   id                    27673 non-null  object \n",
      " 1   name                  22268 non-null  object \n",
      " 2   asins                 27672 non-null  object \n",
      " 3   brand                 27673 non-null  object \n",
      " 4   categories            27673 non-null  object \n",
      " 5   keys                  27673 non-null  object \n",
      " 6   manufacturer          27673 non-null  object \n",
      " 7   reviews.date          27659 non-null  object \n",
      " 8   reviews.dateAdded     19228 non-null  object \n",
      " 9   reviews.dateSeen      27673 non-null  object \n",
      " 10  reviews.didPurchase   1 non-null      object \n",
      " 11  reviews.doRecommend   27257 non-null  object \n",
      " 12  reviews.id            1 non-null      float64\n",
      " 13  reviews.numHelpful    27304 non-null  float64\n",
      " 14  reviews.rating        27673 non-null  float64\n",
      " 15  reviews.sourceURLs    27673 non-null  object \n",
      " 16  reviews.text          27672 non-null  object \n",
      " 17  reviews.title         27668 non-null  object \n",
      " 18  reviews.userCity      0 non-null      float64\n",
      " 19  reviews.userProvince  0 non-null      float64\n",
      " 20  reviews.username      27671 non-null  object \n",
      "dtypes: float64(5), object(16)\n",
      "memory usage: 5.9+ MB\n"
     ]
    }
   ],
   "source": [
    "\n",
    "reviews.info()"
   ]
  },
  {
   "cell_type": "code",
   "execution_count": 26,
   "metadata": {},
   "outputs": [
    {
     "data": {
      "text/html": [
       "<div>\n",
       "<style scoped>\n",
       "    .dataframe tbody tr th:only-of-type {\n",
       "        vertical-align: middle;\n",
       "    }\n",
       "\n",
       "    .dataframe tbody tr th {\n",
       "        vertical-align: top;\n",
       "    }\n",
       "\n",
       "    .dataframe thead th {\n",
       "        text-align: right;\n",
       "    }\n",
       "</style>\n",
       "<table border=\"1\" class=\"dataframe\">\n",
       "  <thead>\n",
       "    <tr style=\"text-align: right;\">\n",
       "      <th></th>\n",
       "      <th>asins</th>\n",
       "    </tr>\n",
       "  </thead>\n",
       "  <tbody>\n",
       "    <tr>\n",
       "      <th>B018Y229OU</th>\n",
       "      <td>8772</td>\n",
       "    </tr>\n",
       "    <tr>\n",
       "      <th>B00L9EPT8O,B01E6AO69U</th>\n",
       "      <td>5304</td>\n",
       "    </tr>\n",
       "    <tr>\n",
       "      <th>B00U3FPN4U</th>\n",
       "      <td>4076</td>\n",
       "    </tr>\n",
       "    <tr>\n",
       "      <th>B00OQVZDJM</th>\n",
       "      <td>2525</td>\n",
       "    </tr>\n",
       "    <tr>\n",
       "      <th>B01AHB9CN2</th>\n",
       "      <td>2241</td>\n",
       "    </tr>\n",
       "  </tbody>\n",
       "</table>\n",
       "</div>"
      ],
      "text/plain": [
       "                       asins\n",
       "B018Y229OU              8772\n",
       "B00L9EPT8O,B01E6AO69U   5304\n",
       "B00U3FPN4U              4076\n",
       "B00OQVZDJM              2525\n",
       "B01AHB9CN2              2241"
      ]
     },
     "execution_count": 26,
     "metadata": {},
     "output_type": "execute_result"
    }
   ],
   "source": [
    "counts = reviews[\"asins\"].value_counts().to_frame()\n",
    "counts.head()"
   ]
  },
  {
   "cell_type": "code",
   "execution_count": 27,
   "metadata": {},
   "outputs": [
    {
     "data": {
      "text/html": [
       "<div>\n",
       "<style scoped>\n",
       "    .dataframe tbody tr th:only-of-type {\n",
       "        vertical-align: middle;\n",
       "    }\n",
       "\n",
       "    .dataframe tbody tr th {\n",
       "        vertical-align: top;\n",
       "    }\n",
       "\n",
       "    .dataframe thead th {\n",
       "        text-align: right;\n",
       "    }\n",
       "</style>\n",
       "<table border=\"1\" class=\"dataframe\">\n",
       "  <thead>\n",
       "    <tr style=\"text-align: right;\">\n",
       "      <th></th>\n",
       "      <th>reviews.rating</th>\n",
       "    </tr>\n",
       "    <tr>\n",
       "      <th>asins</th>\n",
       "      <th></th>\n",
       "    </tr>\n",
       "  </thead>\n",
       "  <tbody>\n",
       "    <tr>\n",
       "      <th>B005PB2T0S</th>\n",
       "      <td>4.000000</td>\n",
       "    </tr>\n",
       "    <tr>\n",
       "      <th>B005PB2T2Q</th>\n",
       "      <td>3.400000</td>\n",
       "    </tr>\n",
       "    <tr>\n",
       "      <th>B00IOY8XWQ</th>\n",
       "      <td>4.731183</td>\n",
       "    </tr>\n",
       "    <tr>\n",
       "      <th>B00IOYAM4I</th>\n",
       "      <td>4.900000</td>\n",
       "    </tr>\n",
       "    <tr>\n",
       "      <th>B00L9EPT8O,B01E6AO69U</th>\n",
       "      <td>4.663462</td>\n",
       "    </tr>\n",
       "  </tbody>\n",
       "</table>\n",
       "</div>"
      ],
      "text/plain": [
       "                       reviews.rating\n",
       "asins                                \n",
       "B005PB2T0S                   4.000000\n",
       "B005PB2T2Q                   3.400000\n",
       "B00IOY8XWQ                   4.731183\n",
       "B00IOYAM4I                   4.900000\n",
       "B00L9EPT8O,B01E6AO69U        4.663462"
      ]
     },
     "execution_count": 27,
     "metadata": {},
     "output_type": "execute_result"
    }
   ],
   "source": [
    "avg_rating = reviews.groupby(\"asins\")[\"reviews.rating\"].mean().to_frame()\n",
    "avg_rating.head()"
   ]
  },
  {
   "cell_type": "code",
   "execution_count": 28,
   "metadata": {},
   "outputs": [
    {
     "data": {
      "text/html": [
       "<div>\n",
       "<style scoped>\n",
       "    .dataframe tbody tr th:only-of-type {\n",
       "        vertical-align: middle;\n",
       "    }\n",
       "\n",
       "    .dataframe tbody tr th {\n",
       "        vertical-align: top;\n",
       "    }\n",
       "\n",
       "    .dataframe thead th {\n",
       "        text-align: right;\n",
       "    }\n",
       "</style>\n",
       "<table border=\"1\" class=\"dataframe\">\n",
       "  <thead>\n",
       "    <tr style=\"text-align: right;\">\n",
       "      <th></th>\n",
       "      <th>asins</th>\n",
       "      <th>reviews.rating</th>\n",
       "    </tr>\n",
       "  </thead>\n",
       "  <tbody>\n",
       "    <tr>\n",
       "      <th>B018Y229OU</th>\n",
       "      <td>8772</td>\n",
       "      <td>4.453032</td>\n",
       "    </tr>\n",
       "    <tr>\n",
       "      <th>B00L9EPT8O,B01E6AO69U</th>\n",
       "      <td>5304</td>\n",
       "      <td>4.663462</td>\n",
       "    </tr>\n",
       "    <tr>\n",
       "      <th>B00U3FPN4U</th>\n",
       "      <td>4076</td>\n",
       "      <td>4.709028</td>\n",
       "    </tr>\n",
       "    <tr>\n",
       "      <th>B00OQVZDJM</th>\n",
       "      <td>2525</td>\n",
       "      <td>4.774653</td>\n",
       "    </tr>\n",
       "    <tr>\n",
       "      <th>B01AHB9CN2</th>\n",
       "      <td>2241</td>\n",
       "      <td>4.586792</td>\n",
       "    </tr>\n",
       "    <tr>\n",
       "      <th>B018Y23MNM</th>\n",
       "      <td>1346</td>\n",
       "      <td>4.511887</td>\n",
       "    </tr>\n",
       "    <tr>\n",
       "      <th>B018Y225IA</th>\n",
       "      <td>811</td>\n",
       "      <td>4.498150</td>\n",
       "    </tr>\n",
       "    <tr>\n",
       "      <th>B01BH83OOM</th>\n",
       "      <td>504</td>\n",
       "      <td>4.539683</td>\n",
       "    </tr>\n",
       "    <tr>\n",
       "      <th>B00IOY8XWQ</th>\n",
       "      <td>465</td>\n",
       "      <td>4.731183</td>\n",
       "    </tr>\n",
       "    <tr>\n",
       "      <th>B01J2G4VBG</th>\n",
       "      <td>322</td>\n",
       "      <td>4.422360</td>\n",
       "    </tr>\n",
       "    <tr>\n",
       "      <th>B00TSUGXKE</th>\n",
       "      <td>300</td>\n",
       "      <td>4.456667</td>\n",
       "    </tr>\n",
       "    <tr>\n",
       "      <th>B018SZT3BK</th>\n",
       "      <td>217</td>\n",
       "      <td>4.557604</td>\n",
       "    </tr>\n",
       "    <tr>\n",
       "      <th>B0189XYY0Q</th>\n",
       "      <td>208</td>\n",
       "      <td>4.557692</td>\n",
       "    </tr>\n",
       "    <tr>\n",
       "      <th>B00ZV9PXP2</th>\n",
       "      <td>178</td>\n",
       "      <td>4.516854</td>\n",
       "    </tr>\n",
       "    <tr>\n",
       "      <th>B01AHB9CYG</th>\n",
       "      <td>132</td>\n",
       "      <td>4.628788</td>\n",
       "    </tr>\n",
       "    <tr>\n",
       "      <th>B00QFQRELG</th>\n",
       "      <td>54</td>\n",
       "      <td>4.277778</td>\n",
       "    </tr>\n",
       "    <tr>\n",
       "      <th>B00VINDBJK</th>\n",
       "      <td>48</td>\n",
       "      <td>4.645833</td>\n",
       "    </tr>\n",
       "    <tr>\n",
       "      <th>B00IOYAM4I</th>\n",
       "      <td>40</td>\n",
       "      <td>4.900000</td>\n",
       "    </tr>\n",
       "    <tr>\n",
       "      <th>B01BFIBRIE</th>\n",
       "      <td>20</td>\n",
       "      <td>4.700000</td>\n",
       "    </tr>\n",
       "    <tr>\n",
       "      <th>B00QL1ZN3G</th>\n",
       "      <td>15</td>\n",
       "      <td>3.066667</td>\n",
       "    </tr>\n",
       "    <tr>\n",
       "      <th>B01AHB9C1E</th>\n",
       "      <td>13</td>\n",
       "      <td>4.461538</td>\n",
       "    </tr>\n",
       "    <tr>\n",
       "      <th>B01J4ORNHU</th>\n",
       "      <td>12</td>\n",
       "      <td>4.500000</td>\n",
       "    </tr>\n",
       "    <tr>\n",
       "      <th>B00LW9XOJM</th>\n",
       "      <td>10</td>\n",
       "      <td>4.200000</td>\n",
       "    </tr>\n",
       "    <tr>\n",
       "      <th>B00QJDU3KY</th>\n",
       "      <td>10</td>\n",
       "      <td>4.600000</td>\n",
       "    </tr>\n",
       "    <tr>\n",
       "      <th>B018Y22BI4</th>\n",
       "      <td>9</td>\n",
       "      <td>4.666667</td>\n",
       "    </tr>\n",
       "    <tr>\n",
       "      <th>B00X4WHP5E</th>\n",
       "      <td>7</td>\n",
       "      <td>4.285714</td>\n",
       "    </tr>\n",
       "    <tr>\n",
       "      <th>B00UH4D8G2</th>\n",
       "      <td>7</td>\n",
       "      <td>3.428571</td>\n",
       "    </tr>\n",
       "    <tr>\n",
       "      <th>B005PB2T2Q</th>\n",
       "      <td>5</td>\n",
       "      <td>3.400000</td>\n",
       "    </tr>\n",
       "    <tr>\n",
       "      <th>B018Y22C2Y</th>\n",
       "      <td>5</td>\n",
       "      <td>4.800000</td>\n",
       "    </tr>\n",
       "    <tr>\n",
       "      <th>B018T075DC</th>\n",
       "      <td>4</td>\n",
       "      <td>5.000000</td>\n",
       "    </tr>\n",
       "  </tbody>\n",
       "</table>\n",
       "</div>"
      ],
      "text/plain": [
       "                       asins  reviews.rating\n",
       "B018Y229OU              8772        4.453032\n",
       "B00L9EPT8O,B01E6AO69U   5304        4.663462\n",
       "B00U3FPN4U              4076        4.709028\n",
       "B00OQVZDJM              2525        4.774653\n",
       "B01AHB9CN2              2241        4.586792\n",
       "B018Y23MNM              1346        4.511887\n",
       "B018Y225IA               811        4.498150\n",
       "B01BH83OOM               504        4.539683\n",
       "B00IOY8XWQ               465        4.731183\n",
       "B01J2G4VBG               322        4.422360\n",
       "B00TSUGXKE               300        4.456667\n",
       "B018SZT3BK               217        4.557604\n",
       "B0189XYY0Q               208        4.557692\n",
       "B00ZV9PXP2               178        4.516854\n",
       "B01AHB9CYG               132        4.628788\n",
       "B00QFQRELG                54        4.277778\n",
       "B00VINDBJK                48        4.645833\n",
       "B00IOYAM4I                40        4.900000\n",
       "B01BFIBRIE                20        4.700000\n",
       "B00QL1ZN3G                15        3.066667\n",
       "B01AHB9C1E                13        4.461538\n",
       "B01J4ORNHU                12        4.500000\n",
       "B00LW9XOJM                10        4.200000\n",
       "B00QJDU3KY                10        4.600000\n",
       "B018Y22BI4                 9        4.666667\n",
       "B00X4WHP5E                 7        4.285714\n",
       "B00UH4D8G2                 7        3.428571\n",
       "B005PB2T2Q                 5        3.400000\n",
       "B018Y22C2Y                 5        4.800000\n",
       "B018T075DC                 4        5.000000"
      ]
     },
     "execution_count": 28,
     "metadata": {},
     "output_type": "execute_result"
    }
   ],
   "source": [
    "table = counts.join(avg_rating)\n",
    "table.head(30)"
   ]
  },
  {
   "cell_type": "code",
   "execution_count": 29,
   "metadata": {},
   "outputs": [
    {
     "data": {
      "text/html": [
       "<div>\n",
       "<style scoped>\n",
       "    .dataframe tbody tr th:only-of-type {\n",
       "        vertical-align: middle;\n",
       "    }\n",
       "\n",
       "    .dataframe tbody tr th {\n",
       "        vertical-align: top;\n",
       "    }\n",
       "\n",
       "    .dataframe thead th {\n",
       "        text-align: right;\n",
       "    }\n",
       "</style>\n",
       "<table border=\"1\" class=\"dataframe\">\n",
       "  <thead>\n",
       "    <tr style=\"text-align: right;\">\n",
       "      <th></th>\n",
       "      <th>asins</th>\n",
       "      <th>reviews.rating</th>\n",
       "    </tr>\n",
       "  </thead>\n",
       "  <tbody>\n",
       "    <tr>\n",
       "      <th>asins</th>\n",
       "      <td>1.000000</td>\n",
       "      <td>0.099791</td>\n",
       "    </tr>\n",
       "    <tr>\n",
       "      <th>reviews.rating</th>\n",
       "      <td>0.099791</td>\n",
       "      <td>1.000000</td>\n",
       "    </tr>\n",
       "  </tbody>\n",
       "</table>\n",
       "</div>"
      ],
      "text/plain": [
       "                   asins  reviews.rating\n",
       "asins           1.000000        0.099791\n",
       "reviews.rating  0.099791        1.000000"
      ]
     },
     "execution_count": 29,
     "metadata": {},
     "output_type": "execute_result"
    },
    {
     "data": {
      "image/png": "[encoded data removed]",
      "text/plain": [
       "<Figure size 432x288 with 1 Axes>"
      ]
     },
     "metadata": {
      "needs_background": "light"
     },
     "output_type": "display_data"
    }
   ],
   "source": [
    "plt.scatter(\"asins\", \"reviews.rating\", data=table)\n",
    "table.corr()"
   ]
  },
  {
   "cell_type": "markdown",
   "metadata": {},
   "source": [
    "From our analysis in data exploration above between ASINs and reviews.rating, we discovered that there are many ASINs with low occurrence that have high variances, as a result we concluded that theses low occurrence ASINs are not significant in our analysis given the low sample size.\n",
    "\n",
    "Similarly in our correlation analysis between ASINs and reviews.rating, we see that there is almost no correlation which is consistent with our findings."
   ]
  },
  {
   "cell_type": "markdown",
   "metadata": {},
   "source": [
    "### 6 Sentiment Analysis"
   ]
  },
  {
   "cell_type": "markdown",
   "metadata": {},
   "source": [
    "Using the features in place, we will build a classifier that can determine a review's sentiment."
   ]
  },
  {
   "cell_type": "markdown",
   "metadata": {},
   "source": [
    "### 6.1 Set Target Variable (Sentiments)"
   ]
  },
  {
   "cell_type": "markdown",
   "metadata": {},
   "source": [
    "Segregate ratings from 1-5 into positive, neutral, and negative."
   ]
  },
  {
   "cell_type": "code",
   "execution_count": 30,
   "metadata": {},
   "outputs": [
    {
     "data": {
      "text/plain": [
       "4349     Positive\n",
       "30776    Positive\n",
       "28775     Neutral\n",
       "1136     Positive\n",
       "17803    Positive\n",
       "7336     Positive\n",
       "32638    Positive\n",
       "13995    Positive\n",
       "6728     Negative\n",
       "22009    Positive\n",
       "11047    Positive\n",
       "22754    Positive\n",
       "5578     Positive\n",
       "11673    Positive\n",
       "19168    Positive\n",
       "14903    Positive\n",
       "30843    Positive\n",
       "5440     Positive\n",
       "28940    Positive\n",
       "31258    Positive\n",
       "Name: Sentiment, dtype: object"
      ]
     },
     "execution_count": 30,
     "metadata": {},
     "output_type": "execute_result"
    }
   ],
   "source": [
    "\n",
    "def sentiments(rating):\n",
    "    if (rating == 5) or (rating == 4):\n",
    "        return \"Positive\"\n",
    "    elif rating == 3:\n",
    "        return \"Neutral\"\n",
    "    elif (rating == 2) or (rating == 1):\n",
    "        return \"Negative\"\n",
    "# Add sentiments to the data\n",
    "strat_train[\"Sentiment\"] = strat_train[\"reviews.rating\"].apply(sentiments)\n",
    "strat_test[\"Sentiment\"] = strat_test[\"reviews.rating\"].apply(sentiments)\n",
    "strat_train[\"Sentiment\"][:20]"
   ]
  },
  {
   "cell_type": "code",
   "execution_count": 32,
   "metadata": {},
   "outputs": [
    {
     "name": "stdout",
     "output_type": "stream",
     "text": [
      "27701 6926\n"
     ]
    }
   ],
   "source": [
    "# Prepare data\n",
    "X_train = strat_train[\"reviews.text\"]\n",
    "X_train_targetSentiment = strat_train[\"Sentiment\"]\n",
    "X_test = strat_test[\"reviews.text\"]\n",
    "X_test_targetSentiment = strat_test[\"Sentiment\"]\n",
    "print(len(X_train), len(X_test))"
   ]
  },
  {
   "cell_type": "markdown",
   "metadata": {},
   "source": [
    "27,701 training samples and 6926 testing samples."
   ]
  },
  {
   "cell_type": "markdown",
   "metadata": {},
   "source": [
    "### 6.2 Extract Features\n",
    "\n",
    "Here we will turn content into numerical feature vectors using the Bag of Words strategy:\n",
    "\n",
    "Assign fixed integer id to each word occurrence (integer indices to word occurrence dictionary)\n",
    "\n",
    "X[i,j] where i is the integer indices, j is the word occurrence, and X is an array of words (our training set)\n",
    "\n",
    "In order to implement the Bag of Words strategy, we will use SciKit-Learn's CountVectorizer to performs the following:\n",
    "\n",
    "Text preprocessing:\n",
    "\n",
    "Tokenization (breaking sentences into words)\n",
    "\n",
    "\n",
    "Stopwords (filtering \"the\", \"are\", etc)\n",
    "\n",
    "Occurrence counting (builds a dictionary of features from integer indices with word occurrences)\n",
    "\n",
    "Feature Vector (converts the dictionary of text documents into a feature vector)"
   ]
  },
  {
   "cell_type": "code",
   "execution_count": 33,
   "metadata": {},
   "outputs": [
    {
     "data": {
      "text/plain": [
       "(27701, 12526)"
      ]
     },
     "execution_count": 33,
     "metadata": {},
     "output_type": "execute_result"
    }
   ],
   "source": [
    "# Replace \"nan\" with space\n",
    "X_train = X_train.fillna(' ')\n",
    "X_test = X_test.fillna(' ')\n",
    "X_train_targetSentiment = X_train_targetSentiment.fillna(' ')\n",
    "X_test_targetSentiment = X_test_targetSentiment.fillna(' ')\n",
    "\n",
    "# Text preprocessing and occurance counting\n",
    "from sklearn.feature_extraction.text import CountVectorizer \n",
    "count_vect = CountVectorizer()\n",
    "X_train_counts = count_vect.fit_transform(X_train) \n",
    "X_train_counts.shape"
   ]
  },
  {
   "cell_type": "markdown",
   "metadata": {},
   "source": [
    "Here we have 27,701 training samples and 12,526 distinct words in our training sample.\n",
    "\n",
    "Also, with longer documents, we typically see higher average count values on words that carry very little meaning, this will overshadow shorter documents that have lower average counts with same frequencies, as a result, we will use TfidfTransformer to reduce this redundancy:\n",
    "\n",
    "Term Frequencies (Tf) divides number of occurrences for each word by total number of words\n",
    "Term Frequencies times Inverse Document Frequency (Tfidf) downscales the weights of each word (assigns less value to unimportant stop words ie. \"the\", \"are\", etc)"
   ]
  },
  {
   "cell_type": "code",
   "execution_count": 34,
   "metadata": {},
   "outputs": [
    {
     "data": {
      "text/plain": [
       "(27701, 12526)"
      ]
     },
     "execution_count": 34,
     "metadata": {},
     "output_type": "execute_result"
    }
   ],
   "source": [
    "from sklearn.feature_extraction.text import TfidfTransformer\n",
    "tfidf_transformer = TfidfTransformer(use_idf=False)\n",
    "X_train_tfidf = tfidf_transformer.fit_transform(X_train_counts)\n",
    "X_train_tfidf.shape"
   ]
  },
  {
   "cell_type": "markdown",
   "metadata": {},
   "source": [
    "#### 6.3 Building a Pipeline from the Extracted Features\n",
    "\n",
    "We will use Multinominal Naive Bayes as our Classifier\n",
    "\n",
    "Multinominal Niave Bayes is most suitable for word counts where data are typically represented as word vector counts (number of times outcome number X[i,j] is observed over the n trials), while also ignoring non-occurrences of a feature i\n",
    "\n",
    "Naive Bayes is a simplified version of Bayes Theorem, where all features are assumed conditioned independent to each other (the classifiers), P(x|y) where x is the feature and y is the classifier"
   ]
  },
  {
   "cell_type": "code",
   "execution_count": 35,
   "metadata": {},
   "outputs": [
    {
     "data": {
      "text/plain": [
       "Pipeline(steps=[('vect', CountVectorizer()), ('tfidf', TfidfTransformer()),\n",
       "                ('clf_nominalNB', MultinomialNB())])"
      ]
     },
     "execution_count": 35,
     "metadata": {},
     "output_type": "execute_result"
    }
   ],
   "source": [
    "from sklearn.naive_bayes import MultinomialNB\n",
    "from sklearn.pipeline import Pipeline\n",
    "clf_multiNB_pipe = Pipeline([(\"vect\", CountVectorizer()), (\"tfidf\", TfidfTransformer()), (\"clf_nominalNB\", MultinomialNB())])\n",
    "clf_multiNB_pipe.fit(X_train, X_train_targetSentiment)"
   ]
  },
  {
   "cell_type": "markdown",
   "metadata": {},
   "source": [
    "#### 6.4 Test Model"
   ]
  },
  {
   "cell_type": "code",
   "execution_count": 36,
   "metadata": {},
   "outputs": [
    {
     "data": {
      "text/plain": [
       "0.9344498989315623"
      ]
     },
     "execution_count": 36,
     "metadata": {},
     "output_type": "execute_result"
    }
   ],
   "source": [
    "import numpy as np\n",
    "predictedMultiNB = clf_multiNB_pipe.predict(X_test)\n",
    "np.mean(predictedMultiNB == X_test_targetSentiment)"
   ]
  },
  {
   "cell_type": "markdown",
   "metadata": {},
   "source": [
    "### 6.5 Testing Other Models"
   ]
  },
  {
   "cell_type": "markdown",
   "metadata": {},
   "source": [
    "##### Logistic Regression Classifier"
   ]
  },
  {
   "cell_type": "code",
   "execution_count": 37,
   "metadata": {},
   "outputs": [
    {
     "data": {
      "text/plain": [
       "0.9392145538550389"
      ]
     },
     "execution_count": 37,
     "metadata": {},
     "output_type": "execute_result"
    }
   ],
   "source": [
    "from sklearn.linear_model import LogisticRegression\n",
    "from sklearn.pipeline import Pipeline\n",
    "clf_logReg_pipe = Pipeline([(\"vect\", CountVectorizer()), (\"tfidf\", TfidfTransformer()), (\"clf_logReg\", LogisticRegression())])\n",
    "clf_logReg_pipe.fit(X_train, X_train_targetSentiment)\n",
    "\n",
    "import numpy as np\n",
    "predictedLogReg = clf_logReg_pipe.predict(X_test)\n",
    "np.mean(predictedLogReg == X_test_targetSentiment)"
   ]
  },
  {
   "cell_type": "markdown",
   "metadata": {},
   "source": [
    "##### Support Vector Machine Classifier"
   ]
  },
  {
   "cell_type": "code",
   "execution_count": 38,
   "metadata": {},
   "outputs": [
    {
     "data": {
      "text/plain": [
       "0.9393589373375686"
      ]
     },
     "execution_count": 38,
     "metadata": {},
     "output_type": "execute_result"
    }
   ],
   "source": [
    "from sklearn.svm import LinearSVC\n",
    "clf_linearSVC_pipe = Pipeline([(\"vect\", CountVectorizer()), (\"tfidf\", TfidfTransformer()), (\"clf_linearSVC\", LinearSVC())])\n",
    "clf_linearSVC_pipe.fit(X_train, X_train_targetSentiment)\n",
    "\n",
    "predictedLinearSVC = clf_linearSVC_pipe.predict(X_test)\n",
    "np.mean(predictedLinearSVC == X_test_targetSentiment)"
   ]
  },
  {
   "cell_type": "markdown",
   "metadata": {},
   "source": [
    "###### Decision Tree Classifier"
   ]
  },
  {
   "cell_type": "code",
   "execution_count": 39,
   "metadata": {},
   "outputs": [
    {
     "data": {
      "text/plain": [
       "0.9016748483973434"
      ]
     },
     "execution_count": 39,
     "metadata": {},
     "output_type": "execute_result"
    }
   ],
   "source": [
    "from sklearn.tree import DecisionTreeClassifier\n",
    "clf_decisionTree_pipe = Pipeline([(\"vect\", CountVectorizer()), (\"tfidf\", TfidfTransformer()), \n",
    "                                  (\"clf_decisionTree\", DecisionTreeClassifier())])\n",
    "clf_decisionTree_pipe.fit(X_train, X_train_targetSentiment)\n",
    "\n",
    "predictedDecisionTree = clf_decisionTree_pipe.predict(X_test)\n",
    "np.mean(predictedDecisionTree == X_test_targetSentiment)"
   ]
  },
  {
   "cell_type": "markdown",
   "metadata": {},
   "source": [
    "##### Random Forest Classifier"
   ]
  },
  {
   "cell_type": "code",
   "execution_count": 40,
   "metadata": {},
   "outputs": [
    {
     "data": {
      "text/plain": [
       "0.9350274328616807"
      ]
     },
     "execution_count": 40,
     "metadata": {},
     "output_type": "execute_result"
    }
   ],
   "source": [
    "from sklearn.ensemble import RandomForestClassifier\n",
    "clf_randomForest_pipe = Pipeline([(\"vect\", CountVectorizer()), (\"tfidf\", TfidfTransformer()), (\"clf_randomForest\", RandomForestClassifier())])\n",
    "clf_randomForest_pipe.fit(X_train, X_train_targetSentiment)\n",
    "\n",
    "predictedRandomForest = clf_randomForest_pipe.predict(X_test)\n",
    "np.mean(predictedRandomForest == X_test_targetSentiment)"
   ]
  },
  {
   "cell_type": "markdown",
   "metadata": {},
   "source": [
    "##### Looks like all the models performed very well (>90%), and we will use the Support Vector Machine Classifier since it has the highest accuracy level at 93.94%.\n",
    "\n",
    "##### Now we will fine tune the Support Vector Machine model (Linear_SVC) to avoid any potential over-fitting.\n",
    "\n",
    "### 6.6 Fine tuning the Support Vector Machine Classifier\n",
    "\n",
    "Here we will run a Grid Search of the best parameters on a grid of possible values, instead of tweaking the parameters of various components of the chain (ie. use_idf in tfidftransformer)\n",
    "\n",
    "We will also run the grid search with LinearSVC classifier pipeline, parameters and cpu core maximization\n",
    "\n",
    "Then we will fit the grid search to our training data set\n",
    "\n",
    "Next we will use our final classifier (after fine-tuning) to test some arbitrary reviews\n",
    "\n",
    "Finally we will test the accuracy of our final classifier (after fine-tuning)\n",
    "\n",
    "Note that Support Vector Machines is very suitable for classification by measuring extreme values between classes, to differentiate the worst case scenarios so that it can classify between Positive, Neutral and Negative correctly."
   ]
  },
  {
   "cell_type": "code",
   "execution_count": 41,
   "metadata": {},
   "outputs": [
    {
     "data": {
      "text/plain": [
       "Positive    NaN\n",
       "Neutral     NaN\n",
       "Negative    NaN\n",
       "Name: Sentiment, dtype: object"
      ]
     },
     "execution_count": 41,
     "metadata": {},
     "output_type": "execute_result"
    }
   ],
   "source": [
    "from sklearn.model_selection import GridSearchCV\n",
    "parameters = {'vect__ngram_range': [(1, 1), (1, 2)],    \n",
    "             'tfidf__use_idf': (True, False), \n",
    "             } \n",
    "gs_clf_LinearSVC_pipe = GridSearchCV(clf_linearSVC_pipe, parameters, n_jobs=-1)\n",
    "gs_clf_LinearSVC_pipe = gs_clf_LinearSVC_pipe.fit(X_train, X_train_targetSentiment)\n",
    "new_text = [\"The tablet is good, really liked it.\", # positive\n",
    "            \"The tablet is ok, but it works fine.\", # neutral\n",
    "            \"The tablet is not good, does not work very well.\"] # negative\n",
    "\n",
    "X_train_targetSentiment[gs_clf_LinearSVC_pipe.predict(new_text)]"
   ]
  },
  {
   "cell_type": "code",
   "execution_count": 42,
   "metadata": {},
   "outputs": [
    {
     "data": {
      "text/plain": [
       "0.9408027721628646"
      ]
     },
     "execution_count": 42,
     "metadata": {},
     "output_type": "execute_result"
    }
   ],
   "source": [
    "predictedGS_clf_LinearSVC_pipe = gs_clf_LinearSVC_pipe.predict(X_test)\n",
    "np.mean(predictedGS_clf_LinearSVC_pipe == X_test_targetSentiment)"
   ]
  },
  {
   "cell_type": "markdown",
   "metadata": {},
   "source": [
    "Results:\n",
    "\n",
    "After testing some arbitrary reviews, it seems that our features is performing correctly with Positive, Neutral, Negative results\n",
    "\n",
    "We also see that after running the grid search, our Support Vector Machine Classifier has improved to 94.08% accuracy level"
   ]
  },
  {
   "cell_type": "markdown",
   "metadata": {},
   "source": [
    "#### 6.7 Detailed Performance Analysis of Support Vector Machine Classifier"
   ]
  },
  {
   "cell_type": "markdown",
   "metadata": {},
   "source": [
    "For detailed analysis, we will:\n",
    "\n",
    "Analyze the best mean score of the grid search (classifier, parameters, CPU core)\n",
    "\n",
    "\n",
    "Analyze the best estimator\n",
    "\n",
    "Analyze the best parameter"
   ]
  },
  {
   "cell_type": "code",
   "execution_count": 44,
   "metadata": {},
   "outputs": [
    {
     "name": "stdout",
     "output_type": "stream",
     "text": [
      "0.9366809937342697\n",
      "Pipeline(steps=[('vect', CountVectorizer(ngram_range=(1, 2))),\n",
      "                ('tfidf', TfidfTransformer()), ('clf_linearSVC', LinearSVC())])\n",
      "{'tfidf__use_idf': True, 'vect__ngram_range': (1, 2)}\n"
     ]
    }
   ],
   "source": [
    "for performance_analysis in (gs_clf_LinearSVC_pipe.best_score_, \n",
    "                             gs_clf_LinearSVC_pipe.best_estimator_, \n",
    "                             gs_clf_LinearSVC_pipe.best_params_):\n",
    "        print(performance_analysis)"
   ]
  },
  {
   "cell_type": "code",
   "execution_count": 45,
   "metadata": {},
   "outputs": [
    {
     "name": "stdout",
     "output_type": "stream",
     "text": [
      "              precision    recall  f1-score   support\n",
      "\n",
      "                   0.00      0.00      0.00         5\n",
      "    Negative       0.67      0.25      0.36       156\n",
      "     Neutral       0.47      0.11      0.18       292\n",
      "    Positive       0.95      1.00      0.97      6473\n",
      "\n",
      "    accuracy                           0.94      6926\n",
      "   macro avg       0.52      0.34      0.38      6926\n",
      "weighted avg       0.92      0.94      0.92      6926\n",
      "\n",
      "Accuracy: 0.9408027721628646\n"
     ]
    }
   ],
   "source": [
    "\n",
    "from sklearn.metrics import classification_report\n",
    "from sklearn.metrics import accuracy_score\n",
    "\n",
    "print(classification_report(X_test_targetSentiment, predictedGS_clf_LinearSVC_pipe))\n",
    "print('Accuracy: {}'. format(accuracy_score(X_test_targetSentiment, predictedGS_clf_LinearSVC_pipe)))"
   ]
  },
  {
   "cell_type": "markdown",
   "metadata": {},
   "source": [
    "\n",
    "Below is the summary of the classification report:\n",
    "\n",
    "Precision: determines how many objects selected were correct\n",
    "Recall: tells you how many of the objects that should have been selected were actually selected\n",
    "F1 score measures the weights of recall and precision (1 means precision and recall are equally important, 0 otherwise)\n",
    "Support is the number of occurrences of each class\n",
    "The results in this analysis confirms our previous data exploration analysis, where the data are very skewed to the positive reviews as shown by the lower support counts in the classification report. Also, both neutral and negative reviews has large standard deviation with small frequencies, which we would not consider significant as shown by the lower precision, recall and F1 scores in the classification report.\n",
    "\n",
    "However, despite that Neutral and Negative results are not very strong predictors in this data set, it still shows a 94.08% accuracy level in predicting the sentiment analysis, which we tested and worked very well when inputting arbitrary text (new_text). Therefore, we are comfortable here with the skewed data set. Also, as we continue to input new dataset in the future that is more balanced, this model will then re-adjust to a more balanced classifier which will increase the accuracy level.\n",
    "\n",
    ": The first row will be ignored as we previously replaced all NAN with \" \". We tried to remove this row when we first imported the raw data, but Pandas DataFrame did not like this row removed when we tried to drop all NAN (before stratifying and splitting the dataset). As a result, replacing the NAN with \" \" was the best workaround and the first row will be ignored in this analysis.\n",
    "\n",
    "Finally, the overall result here explains that the products in this dataset are generally positively rated."
   ]
  },
  {
   "cell_type": "code",
   "execution_count": 46,
   "metadata": {},
   "outputs": [
    {
     "data": {
      "text/plain": [
       "array([[   0,    0,    0,    5],\n",
       "       [   0,   39,   13,  104],\n",
       "       [   0,   14,   32,  246],\n",
       "       [   0,    5,   23, 6445]], dtype=int64)"
      ]
     },
     "execution_count": 46,
     "metadata": {},
     "output_type": "execute_result"
    }
   ],
   "source": [
    "from sklearn import metrics\n",
    "metrics.confusion_matrix(X_test_targetSentiment, predictedGS_clf_LinearSVC_pipe)"
   ]
  },
  {
   "cell_type": "markdown",
   "metadata": {},
   "source": [
    ": The first row and column will be ignored as we previously replaced all NAN with \" \". This is the same situation explained above in the classification report.\n",
    "\n",
    "By considering only row 2-4 and column 2-4 labeled as negative, neutral and positive, we see that positive sentiment can sometimes be confused for one another with neutral and negative ratings, with scores of 246 and 104 respectively. However, based on the overall number of significant positive sentiment at a score 6445, then confusion score of 246 and 104 for neutral and negative ratings respectively are considered insignificant.\n",
    "\n",
    "Also, this is a result of positively skewed dataset, which is consistent with both our data exploration and sentiment analysis. Therefore, we conclude that the products in this dataset are generally positively rated, and should be kept from Amazon's product roster.\n",
    "\n",
    "### 7 Answering the Questions\n",
    "\n",
    "From the analysis above in the classification report, we can see that products with lower reviews are not significant enough to predict these lower rated products are inferior. On the other hand, products that are highly rated are considered superior products, which also performs well and should continue to sell at a high level.\n",
    "\n",
    "As a result, we need to input more data in order to consider the significance of lower rated product, in order to determine which products should be dropped from Amazon's product roster.\n",
    "\n",
    "The good news is that despite the skewed dataset, we were still able to build a robust Sentiment Analysis machine learning system to determine if the reviews are positive or negative. This is possible as the machine learning system was able to learn from all the positive, neutral and negative reviews, and fine tune the algorithm in order to avoid bias sentiments.\n",
    "\n",
    "In conclusion, although we need more data to balance out the lower rated products to consider their significance, however we were still able to successfully associate positive, neutral and negative sentiments for each product in Amazon's Catalog."
   ]
  },
  {
   "cell_type": "code",
   "execution_count": null,
   "metadata": {},
   "outputs": [],
   "source": []
  }
 ],
 "metadata": {
  "kernelspec": {
   "display_name": "Python 3",
   "language": "python",
   "name": "python3"
  },
  "language_info": {
   "codemirror_mode": {
    "name": "ipython",
    "version": 3
   },
   "file_extension": ".py",
   "mimetype": "text/x-python",
   "name": "python",
   "nbconvert_exporter": "python",
   "pygments_lexer": "ipython3",
   "version": "3.8.3"
  }
 },
 "nbformat": 4,
 "nbformat_minor": 4
}
